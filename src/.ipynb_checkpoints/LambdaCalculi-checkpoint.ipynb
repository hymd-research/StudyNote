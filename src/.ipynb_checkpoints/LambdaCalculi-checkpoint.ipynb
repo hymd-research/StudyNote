{
 "cells": [
  {
   "cell_type": "markdown",
   "metadata": {},
   "source": [
    "# Juliaでラムダ計算\n",
    "このNotebookは、`succ`、`pred`等のラムダ計算をJuliaで実際に動かしてみるというものです。  \n",
    "この実験にあたって、デフォルトで部分適用可能な関数を吐き出す`@lambda`マクロを作りました。  はじめにラムダ計算について知っていることを簡単にまとめ、次に`@lambda`の文法と、それらを機能させるために必要な関数を解説し、その後ラムダ計算を用いて**チャーチ数**の算術を実際に書いてみます。  \n",
    "ラムダ計算については、[このブログ](http://clz.hatenablog.com/entry/2017/02/25/233100)を参考にしました。  "
   ]
  },
  {
   "cell_type": "markdown",
   "metadata": {},
   "source": [
    "# [ラムダ計算](https://ja.wikipedia.org/wiki/%E3%83%A9%E3%83%A0%E3%83%80%E8%A8%88%E7%AE%97)とは\n",
    "**ラムダ計算**は次のような文法で定義されたプログラミング言語の一種であると言うことができます。\n",
    "    \n",
    "```\n",
    "<expr> ::= <identifier>\n",
    "<expr> ::= (λ <identifier>. <expr>)\n",
    "<expr> ::= (<expr> <expr>)\n",
    "```\n",
    "ラムダ計算の文法は、*変数*と*関数*そして*関数適用*が定義されていて、それらはすべてラムダ式である、ということになります。 例えば2つの引数を足し合わせる計算`add`は、`+`という記号を認めるならば、\n",
    "\n",
    "$$\n",
    "\\begin{eqnarray}\n",
    "add = \\lambda x.\\lambda y.\\,y+x\n",
    "\\end{eqnarray}\n",
    "$$\n",
    "\n",
    "と定義することができます。  \n",
    "ここで、`add　3`という記号について考えてみます。  \n",
    "`add`は上の通りに定義した変数であり、`3`をリテラルとして認めることにすると、`add 3`は2つの式からなる関数適用であると言えます。元々`add` は2つの引数を取る計算だったはずですが、関数適用であるならば`add 3`はラムダ式でなければなりません。そこで`add 3`は次のように計算します。\n",
    "\n",
    "$$\n",
    "\\begin{eqnarray}\n",
    "add 3 & = &(\\lambda x.\\lambda y.\\,y+x)\\;3\\\\\n",
    "& = &\\lambda y.\\,y+3\n",
    "\\end{eqnarray} \n",
    "$$\n",
    "\n",
    "すなわち、`add 3`は`y` を引数に取って`y`より`3`大きな数字を返す関数である、と解釈します。\n",
    "この`x`を`3`に置き換える操作を、ラムダ計算の世界では**β簡約**いいます。Juliaプログラミングにおいてβ簡約のような操作をするには、必要な引数のうちの一部のみを引数にして関数を呼び出す**部分適用**ができるように関数を定義する必要があります。"
   ]
  },
  {
   "cell_type": "markdown",
   "metadata": {},
   "source": [
    "### マクロ `@lambda`\n",
    "Juliaで自動で部分適用ができる関数を定義するために、引数の個数だけネストしたクロージャを返す関数を出力するマクロ`@lambda`と、複数の引数をネストされたクロージャに一つずつ適用する演算子`<|`を定義します。  \n",
    "`@lambda`は`@lambda arg1, arg2, ... , argN, = <expr>` という文法で使います。  \n",
    "\n",
    "```julia\n",
    "例\n",
    "[in]   add = @lambda x, y, z, = x+y+z   # add = @lambda x, = @lambda y, = @lambda z, = x+y+z\n",
    "[out] add\n",
    "(x -> begin\n",
    "    y -> begin\n",
    "        z -> begin\n",
    "            z + y + x\n",
    "        end\n",
    "    end\n",
    "end)\n",
    "\n",
    "[in]  @lambda g, f, x, = g(f(x))\n",
    "[out]\n",
    "(g -> begin\n",
    "    f -> begin\n",
    "        x -> begin\n",
    "            g(f(x))\n",
    "        end\n",
    "    end\n",
    "end)\n",
    "```\n",
    "`<|`は`<Function> <| (arg1, arg2, ..., argN)`という書き方をします。  \n",
    "\n",
    "```julia\n",
    "例\n",
    "[in]   add <| (1, 2, 3)...\n",
    "[out] 6\n",
    "\n",
    "[in]   add <| (1, 2)\n",
    "[out] (::getfield(Main, Symbol(\"#<<numer>>#\"))) \n",
    "(z -> begin\n",
    "    z + y + z\n",
    "end)\n",
    "\n",
    "```\n",
    "`@apply`と`@calc`は次に説明する**チャーチ数**から実際の値を求めるためのマクロです。端的に言えば`@apply f x`はSchemeの`(f x)`と同じ意味を持ちます。以下はソースコードです。\n"
   ]
  },
  {
   "cell_type": "code",
   "execution_count": 1,
   "metadata": {},
   "outputs": [
    {
     "data": {
      "text/plain": [
       "@calc (macro with 1 method)"
      ]
     },
     "execution_count": 1,
     "metadata": {},
     "output_type": "execute_result"
    }
   ],
   "source": [
    "macro lambda(tpl::Union{Symbol, Expr}...)\n",
    "    e = tpl[1]\n",
    "    expr = :($(e.args[2]))\n",
    "    for arg in reverse(e.args[1].args)\n",
    "        expr = :($arg -> $expr)\n",
    "    end\n",
    "    esc(expr)\n",
    "end\n",
    "\n",
    "function <|(f::Function, args...)\n",
    "    \n",
    "    if length(args) < 2\n",
    "        f(args[1])\n",
    "    else\n",
    "        f(args[1]) <| args[2:end]...\n",
    "    end\n",
    "    \n",
    "end\n",
    "\n",
    "#β-reduction\n",
    "macro apply(lambda::Union{Expr, Symbol} ...)\n",
    "    f = lambda[1]\n",
    "    x = lambda[2:end]\n",
    "    \n",
    "    expr = :(<|($f, $(x...)))\n",
    "    expr = :($f <| $(x...))\n",
    "    esc(expr)\n",
    "end\n",
    "\n",
    "macro calc(lambda::Union{Expr, Symbol})\n",
    "    args = (g::Function -> () -> g()+1, ()->0)\n",
    "    expr = :($lambda <| $(args...))\n",
    "    esc(:($expr()))\n",
    "    end"
   ]
  },
  {
   "cell_type": "markdown",
   "metadata": {},
   "source": [
    "### チャーチ数と算術\n",
    "チャーチ数とは、関数適用の繰り返しで自然数を定義するものです。具体的には、2つの引数`f` `x`を受け取り`f`を$n$回繰り返し呼び出すラムダ式として書くことができます。<br>\n",
    "例えば、$n=0$, $n=1$, $n=2$ならば\n",
    "\n",
    "$$\n",
    "\\begin{eqnarray}\n",
    "zero & = & \\lambda f.\\lambda x.\\,x\\\\ \n",
    "one  & = & \\lambda f.\\lambda x.\\,f\\;x\\\\\n",
    "two & = & \\lambda f.\\lambda x.\\,f\\;(f\\;x)\n",
    "\\end{eqnarray}\n",
    "$$\n",
    "\n",
    "となります。  \n",
    "ところで、[ペアノの公理](https://ja.wikipedia.org/wiki/%E3%83%9A%E3%82%A2%E3%83%8E%E3%81%AE%E5%85%AC%E7%90%86#%E5%AE%9A%E7%BE%A9)に従って自然数を構成するには、チャーチ数$n$を引数にとってその**後者**を返す$successor$（以下$succ$）という関数を構成しなければなりません。$succ$はラムダ式で次のように定義できます。\n",
    "\n",
    "$$\n",
    "\\begin{eqnarray}\n",
    "succ & = & \\lambda n.\\lambda f.\\lambda x.\\,f\\;(n\\;f\\;x)\n",
    "\\end{eqnarray}\n",
    "$$\n",
    "\n",
    "試しに$one = \\lambda f.\\lambda x.\\,f\\;x$の**後者**を計算してみます。\n",
    "\n",
    "$$\n",
    "\\begin{eqnarray}\n",
    "succ\\;one & = & (\\lambda n.\\lambda f.\\lambda x.\\,f\\;(n\\;f\\;x))\\;(\\lambda f.\\lambda x.\\,f\\;x)\\\\\n",
    "& = & \\lambda f.\\lambda x.\\,f\\;((\\lambda f.\\lambda x.\\,f\\;x)\\;f\\;x)\\\\\n",
    "& = & \\lambda f.\\lambda x.\\,f\\;(f\\;x)\\\\\n",
    "& = & two\n",
    "\\end{eqnarray}\n",
    "$$\n",
    "\n",
    "無事に$one$の**後者**$two$が出てきました。  \n",
    "自然数には他にも**加算**$add$、**乗算**$mul$、**冪乗**$pow$があり、チャーチ数に対しても定義できます。それらはすべて[ハイパー演算子](https://ja.wikipedia.org/wiki/%E3%83%8F%E3%82%A4%E3%83%91%E3%83%BC%E6%BC%94%E7%AE%97%E5%AD%90)として実装されます。簡潔に説明すると、$add$は$succ$の繰り返し適用、$mul$は$add$の繰り返し適用,$pow$は$mul$の繰り返し適用、...　というように、演算子を一つ階数の低い演算子の繰り返し適用として再帰的に定義するものです。  \n",
    "また、$successor$の逆写像$predecessor$（以下$pred$）も構成できます。複雑な操作なので説明は省略します。"
   ]
  },
  {
   "cell_type": "markdown",
   "metadata": {},
   "source": [
    "### Juliaでラムダ計算"
   ]
  },
  {
   "cell_type": "markdown",
   "metadata": {},
   "source": [
    "ここまで見てきたラムダ計算に従ってチャーチ数と演算をJuliaで実装してみます。  \n",
    "以下がコードです。ラムダ式による表現は[こちら](http://clz.hatenablog.com/entry/2017/02/25/233100)を参考にしてください。"
   ]
  },
  {
   "cell_type": "code",
   "execution_count": 2,
   "metadata": {},
   "outputs": [
    {
     "data": {
      "text/plain": [
       "#45 (generic function with 1 method)"
      ]
     },
     "execution_count": 2,
     "metadata": {},
     "output_type": "execute_result"
    }
   ],
   "source": [
    "Zero = @lambda f::Function, x::Function, = x\n",
    "One = @lambda f::Function, x::Function, = @apply f x\n",
    "\n",
    "\n",
    "succ = @lambda n::Function, f::Function, x::Function, = @apply f (@apply n f x)\n",
    "pred = @lambda n::Function, f::Function, x::Function, = @apply n (@lambda y::Function, z::Function, = @apply z @apply y f) (@lambda y::Function, =x) (@lambda y::Function, =y)\n",
    "\n",
    "add = @lambda n::Function, m::Function, = @apply m succ n\n",
    "mul = @lambda n::Function, m::Function, = @apply m (@apply add n) Zero\n",
    "pow = @lambda n::Function, m::Function, = @apply m (@apply mul n) One"
   ]
  },
  {
   "cell_type": "markdown",
   "metadata": {},
   "source": [
    "では実際に計算してみます。  \n",
    "マクロ`@calc`は、関数オブジェクトであるチャーチ数に対して`f = g -> () -> g()+1`, `x = () -> 0`という引数を渡し、返ってきた関数を`call`します。  \n",
    "意味としては、ほぼ以下と等価なプログラムです。  \n",
    "```julia\n",
    "let f = g -> () -> g()+1, x = () -> 0\n",
    "    let church = f(f(x))\n",
    "        church()  # => 2\n",
    "    end\n",
    "end\n",
    "```"
   ]
  },
  {
   "cell_type": "markdown",
   "metadata": {},
   "source": [
    "まずは$succ$が正しく動くか試します。  \n",
    "`1`の2つ**後者**`3`を求めます。"
   ]
  },
  {
   "cell_type": "code",
   "execution_count": 3,
   "metadata": {},
   "outputs": [
    {
     "data": {
      "text/plain": [
       "3"
      ]
     },
     "execution_count": 3,
     "metadata": {},
     "output_type": "execute_result"
    }
   ],
   "source": [
    "Three = @apply succ @apply succ One\n",
    "@calc Three"
   ]
  },
  {
   "cell_type": "markdown",
   "metadata": {},
   "source": [
    "`3`の１つ前者`2`は`pred Three`で求めます。"
   ]
  },
  {
   "cell_type": "code",
   "execution_count": 4,
   "metadata": {},
   "outputs": [
    {
     "data": {
      "text/plain": [
       "2"
      ]
     },
     "execution_count": 4,
     "metadata": {},
     "output_type": "execute_result"
    }
   ],
   "source": [
    "Two = @apply pred Three\n",
    "@calc Two"
   ]
  },
  {
   "cell_type": "markdown",
   "metadata": {},
   "source": [
    "次は$3^4$を計算してみます。"
   ]
  },
  {
   "cell_type": "code",
   "execution_count": 5,
   "metadata": {},
   "outputs": [
    {
     "data": {
      "text/plain": [
       "81"
      ]
     },
     "execution_count": 5,
     "metadata": {},
     "output_type": "execute_result"
    }
   ],
   "source": [
    "let Three = (@apply succ @apply succ One),　Four = (@apply succ @apply succ @apply succ One)\n",
    "    @calc @apply pow Three Four \n",
    "end"
   ]
  },
  {
   "cell_type": "markdown",
   "metadata": {},
   "source": [
    "無事に動くことが確認できました。"
   ]
  }
 ],
 "metadata": {
  "kernelspec": {
   "display_name": "Julia 1.3.0",
   "language": "julia",
   "name": "julia-1.3"
  },
  "language_info": {
   "file_extension": ".jl",
   "mimetype": "application/julia",
   "name": "julia",
   "version": "1.3.0"
  }
 },
 "nbformat": 4,
 "nbformat_minor": 2
}
